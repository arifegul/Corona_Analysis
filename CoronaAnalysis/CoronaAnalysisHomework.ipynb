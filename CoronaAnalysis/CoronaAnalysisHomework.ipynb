{
 "cells": [
  {
   "cell_type": "markdown",
   "metadata": {},
   "source": [
    "# Corona paper analysis\n",
    "\n",
    "## \"ab.csv\" abstract part of include corona related papers. Each line is taken from different paper."
   ]
  },
  {
   "cell_type": "code",
   "execution_count": 17,
   "metadata": {},
   "outputs": [
    {
     "data": {
      "text/plain": [
       "0     The interaction of DC-SIGN with pathogens tri...\n",
       "1     These first authors contributed equally to th...\n",
       "2    (GST) with various homologs differentially exp...\n",
       "3    (IFN)-inducible antiviral host cell factor tet...\n",
       "4    (n = 83) and medical staff (n = 12) had to und...\n",
       "Name: Content, dtype: object"
      ]
     },
     "execution_count": 17,
     "metadata": {},
     "output_type": "execute_result"
    }
   ],
   "source": [
    "#Download data\n",
    "import numpy as np\n",
    "import pandas as pd\n",
    "\n",
    "x = pd.read_csv('ab.csv',sep=\"[;,]\", engine='python', delimiter ='##', encoding='utf-8')\n",
    "#x.head()\n",
    "y= x['Content']\n",
    "\n",
    "y.head()\n",
    "\n"
   ]
  },
  {
   "cell_type": "code",
   "execution_count": 18,
   "metadata": {},
   "outputs": [
    {
     "name": "stderr",
     "output_type": "stream",
     "text": [
      "[nltk_data] Downloading package punkt to\n",
      "[nltk_data]     C:\\Users\\HP\\AppData\\Roaming\\nltk_data...\n",
      "[nltk_data]   Package punkt is already up-to-date!\n",
      "[nltk_data] Downloading package stopwords to\n",
      "[nltk_data]     C:\\Users\\HP\\AppData\\Roaming\\nltk_data...\n",
      "[nltk_data]   Package stopwords is already up-to-date!\n"
     ]
    }
   ],
   "source": [
    "import string\n",
    "import nltk\n",
    "nltk.download('punkt')\n",
    "nltk.download('stopwords')\n",
    "\n",
    "from nltk.tokenize import word_tokenize\n",
    "from nltk.corpus import stopwords\n",
    "from collections import Counter\n",
    "\n",
    "s_words = stopwords.words('english')\n",
    "\n",
    "sents = \"\"\n",
    "for sent in y:\n",
    "    sent = sent.translate(str.maketrans('', '', string.punctuation))\n",
    "    sents += sent.lower()\n",
    "\n",
    "w = nltk.word_tokenize(sents)\n",
    "w = [w for w in words if w not in s_words]\n",
    "w = [w for w in words if not w.isdigit()]"
   ]
  },
  {
   "cell_type": "markdown",
   "metadata": {},
   "source": [
    "# What is the most frequent words?"
   ]
  },
  {
   "cell_type": "code",
   "execution_count": 19,
   "metadata": {},
   "outputs": [
    {
     "name": "stdout",
     "output_type": "stream",
     "text": [
      "[('virus', 8432), ('infection', 6251), ('viral', 6000), ('cells', 5032), ('study', 4349), ('respiratory', 4212), ('viruses', 4167), ('disease', 4069), ('human', 3842), ('protein', 3524)]\n"
     ]
    }
   ],
   "source": [
    "counter = Counter(w)\n",
    "most_freq_w = counter.most_common(10)\n",
    "\n",
    "print(most_freq_w)"
   ]
  },
  {
   "cell_type": "markdown",
   "metadata": {},
   "source": [
    "# Find lines that include treatment... What is the most frequent words in these specific group."
   ]
  },
  {
   "cell_type": "code",
   "execution_count": 23,
   "metadata": {},
   "outputs": [
    {
     "name": "stdout",
     "output_type": "stream",
     "text": [
      "[('content', 1)]\n"
     ]
    }
   ],
   "source": [
    "from pandas import DataFrame\n",
    "\n",
    "spec_lines_treatment = pd.DataFrame(x['Content'].str.contains('treatment', regex=False, case=False, na=False))\n",
    "\n",
    "freqs = \"\"\n",
    "for freq in spec_lines_treatment:\n",
    "    freq = freq.translate(str.maketrans('', '', string.punctuation))\n",
    "    freqs += freq.lower()\n",
    "\n",
    "w_treat = nltk.word_tokenize(freqs)\n",
    "w_treat = [w for w in w_treat if w not in s_words]\n",
    "w_treat = [w for w in w_treat if not w.isdigit()]\n",
    "\n",
    "counter = Counter(w_treat)\n",
    "most_freq_treatment = counter.most_common(10)\n",
    "\n",
    "print(most_freq_treatment)"
   ]
  },
  {
   "cell_type": "markdown",
   "metadata": {},
   "source": [
    "# Find the corona and \"stress\", \"alchol\" and \"sugar\" relation if exists in papers"
   ]
  },
  {
   "cell_type": "code",
   "execution_count": 6,
   "metadata": {},
   "outputs": [
    {
     "name": "stdout",
     "output_type": "stream",
     "text": [
      "True\n",
      "True\n",
      "True\n"
     ]
    }
   ],
   "source": [
    "print(all(map(lambda words: words in words, ('corona', 'stress'))))\n",
    "print(all(map(lambda words: words in words, ('corona', 'alcohol'))))\n",
    "print(all(map(lambda words: words in words, ('corona', 'sugar'))))"
   ]
  },
  {
   "cell_type": "markdown",
   "metadata": {},
   "source": [
    "# Find lines that include symptom... What is the most frequent words in these specific group."
   ]
  },
  {
   "cell_type": "code",
   "execution_count": 38,
   "metadata": {},
   "outputs": [
    {
     "name": "stdout",
     "output_type": "stream",
     "text": [
      "[('content', 1)]\n"
     ]
    }
   ],
   "source": [
    "from pandas import DataFrame\n",
    "\n",
    "spec_lines_symptom = pd.DataFrame(x['Content'].str.contains('symptom', regex=False, case=False, na=False))\n",
    "\n",
    "freqs = \"\"\n",
    "for freq in spec_lines_symptom:\n",
    "    freq = freq.translate(str.maketrans('', '', string.punctuation))\n",
    "    freqs += freq.lower()\n",
    "\n",
    "w_symptm = nltk.word_tokenize(freqs)\n",
    "w_symptm = [w for w in w_symptm if w not in s_words]\n",
    "w_symptm = [w for w in w_symptm if not w.isdigit()]\n",
    "\n",
    "counter = Counter(w_symptm)\n",
    "most_freq_symptom = counter.most_common(10)\n",
    "\n",
    "print(most_freq_symptom)"
   ]
  },
  {
   "cell_type": "markdown",
   "metadata": {},
   "source": [
    "# diet.txt include the diet items that may be helpful for treatment. Is there any of these items in papers?"
   ]
  },
  {
   "cell_type": "code",
   "execution_count": 21,
   "metadata": {},
   "outputs": [
    {
     "data": {
      "text/html": [
       "<div>\n",
       "<style scoped>\n",
       "    .dataframe tbody tr th:only-of-type {\n",
       "        vertical-align: middle;\n",
       "    }\n",
       "\n",
       "    .dataframe tbody tr th {\n",
       "        vertical-align: top;\n",
       "    }\n",
       "\n",
       "    .dataframe thead th {\n",
       "        text-align: right;\n",
       "    }\n",
       "</style>\n",
       "<table border=\"1\" class=\"dataframe\">\n",
       "  <thead>\n",
       "    <tr style=\"text-align: right;\">\n",
       "      <th></th>\n",
       "      <th>Oregano</th>\n",
       "    </tr>\n",
       "  </thead>\n",
       "  <tbody>\n",
       "    <tr>\n",
       "      <th>0</th>\n",
       "      <td>Sage</td>\n",
       "    </tr>\n",
       "    <tr>\n",
       "      <th>1</th>\n",
       "      <td>Basil</td>\n",
       "    </tr>\n",
       "    <tr>\n",
       "      <th>2</th>\n",
       "      <td>Fennel</td>\n",
       "    </tr>\n",
       "    <tr>\n",
       "      <th>3</th>\n",
       "      <td>Garlic</td>\n",
       "    </tr>\n",
       "    <tr>\n",
       "      <th>4</th>\n",
       "      <td>Lemon balm</td>\n",
       "    </tr>\n",
       "  </tbody>\n",
       "</table>\n",
       "</div>"
      ],
      "text/plain": [
       "      Oregano\n",
       "0        Sage\n",
       "1       Basil\n",
       "2      Fennel\n",
       "3      Garlic\n",
       "4  Lemon balm"
      ]
     },
     "execution_count": 21,
     "metadata": {},
     "output_type": "execute_result"
    }
   ],
   "source": [
    "help_treat = pd.read_csv('Diet.txt')\n",
    "help_treat.head()"
   ]
  },
  {
   "cell_type": "markdown",
   "metadata": {},
   "source": [
    "# How many times does the word 'medicine' appear in the .csv file?"
   ]
  },
  {
   "cell_type": "code",
   "execution_count": 36,
   "metadata": {},
   "outputs": [
    {
     "name": "stdout",
     "output_type": "stream",
     "text": [
      "medicine 136\n"
     ]
    }
   ],
   "source": [
    "import re \n",
    "\n",
    "file_ab = open(\"ab.csv\", \"r\",encoding=\"utf8\") \n",
    "\n",
    "w_counter={}\n",
    "for medicine in file.read().split():\n",
    "    if medicine not in w_counter:\n",
    "        w_counter[medicine] = 1\n",
    "    else:\n",
    "        w_counter[medicine] += 1\n",
    "\n",
    "my_word=\"medicine\"\n",
    "print (my_word, wordcount[my_word])"
   ]
  },
  {
   "cell_type": "markdown",
   "metadata": {},
   "source": [
    "# How to plot the most frequent words?\n"
   ]
  },
  {
   "cell_type": "code",
   "execution_count": 37,
   "metadata": {},
   "outputs": [
    {
     "data": {
      "image/png": "[encoded data removed]",
      "text/plain": [
       "<Figure size 432x288 with 1 Axes>"
      ]
     },
     "metadata": {
      "needs_background": "light"
     },
     "output_type": "display_data"
    }
   ],
   "source": [
    "import numpy as np\n",
    "import matplotlib.pyplot as plt\n",
    "\n",
    "data_most_freq_w_6 = [('virus', 8432), ('infection', 6251), ('viral', 6000), ('cells', 5032) \n",
    "                      ,('study', 4349), ('respiratory', 4212)]\n",
    "\n",
    "names, values = zip(*data_most_freq_w_6)  \n",
    "ind = np.arange(len(data_most_freq_w_6))  \n",
    "width = 0.40  \n",
    "fig, ax = plt.subplots()\n",
    "rects1 = ax.bar(ind, values, width, color='pink')\n",
    "\n",
    "ax.set_ylabel('Count')\n",
    "ax.set_xticks(ind+width/9.)\n",
    "ax.set_xticklabels(names)\n",
    "\n",
    "def autolabel(rects):\n",
    "    for rect in rects:\n",
    "        height = rect.get_height()\n",
    "        ax.text(rect.get_x() + rect.get_width()/2., 1.00*height,\n",
    "                '%d' % int(height),\n",
    "                ha='center', va='bottom')\n",
    "\n",
    "autolabel(rects1)\n",
    "plt.show()\n"
   ]
  }
 ],
 "metadata": {
  "kernelspec": {
   "display_name": "Python 3",
   "language": "python",
   "name": "python3"
  },
  "language_info": {
   "codemirror_mode": {
    "name": "ipython",
    "version": 3
   },
   "file_extension": ".py",
   "mimetype": "text/x-python",
   "name": "python",
   "nbconvert_exporter": "python",
   "pygments_lexer": "ipython3",
   "version": "3.7.6"
  }
 },
 "nbformat": 4,
 "nbformat_minor": 2
}
